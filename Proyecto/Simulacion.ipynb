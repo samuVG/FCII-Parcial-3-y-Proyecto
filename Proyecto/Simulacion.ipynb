{
 "cells": [
  {
   "cell_type": "code",
   "execution_count": 1,
   "metadata": {},
   "outputs": [],
   "source": [
    "import numpy as np\n",
    "from matplotlib.pyplot import *\n",
    "%matplotlib qt\n",
    "#%matplotlib inline\n",
    "matplotlib.use('Qt5Agg') # needed as default backend is too slow"
   ]
  },
  {
   "cell_type": "code",
   "execution_count": 1,
   "metadata": {},
   "outputs": [
    {
     "ename": "NameError",
     "evalue": "name 'np' is not defined",
     "output_type": "error",
     "traceback": [
      "\u001b[0;31m---------------------------------------------------------------------------\u001b[0m",
      "\u001b[0;31mNameError\u001b[0m                                 Traceback (most recent call last)",
      "\u001b[0;32m<ipython-input-1-ab7aceea9827>\u001b[0m in \u001b[0;36m<module>\u001b[0;34m\u001b[0m\n\u001b[1;32m      5\u001b[0m                 \u001b[0mdatos\u001b[0m\u001b[0;34m.\u001b[0m\u001b[0mappend\u001b[0m\u001b[0;34m(\u001b[0m\u001b[0mlineas\u001b[0m\u001b[0;34m.\u001b[0m\u001b[0msplit\u001b[0m\u001b[0;34m(\u001b[0m\u001b[0;34m)\u001b[0m\u001b[0;34m)\u001b[0m\u001b[0;34m\u001b[0m\u001b[0;34m\u001b[0m\u001b[0m\n\u001b[1;32m      6\u001b[0m \u001b[0;34m\u001b[0m\u001b[0m\n\u001b[0;32m----> 7\u001b[0;31m \u001b[0mDatos\u001b[0m\u001b[0;34m=\u001b[0m\u001b[0mnp\u001b[0m\u001b[0;34m.\u001b[0m\u001b[0marray\u001b[0m\u001b[0;34m(\u001b[0m\u001b[0mdatos\u001b[0m\u001b[0;34m[\u001b[0m\u001b[0;36m1\u001b[0m\u001b[0;34m:\u001b[0m\u001b[0;34m]\u001b[0m\u001b[0;34m)\u001b[0m\u001b[0;34m\u001b[0m\u001b[0;34m\u001b[0m\u001b[0m\n\u001b[0m\u001b[1;32m      8\u001b[0m \u001b[0;34m\u001b[0m\u001b[0m\n\u001b[1;32m      9\u001b[0m \u001b[0mx1\u001b[0m\u001b[0;34m=\u001b[0m\u001b[0mDatos\u001b[0m\u001b[0;34m[\u001b[0m\u001b[0;34m:\u001b[0m\u001b[0;34m,\u001b[0m\u001b[0;36m0\u001b[0m\u001b[0;34m]\u001b[0m\u001b[0;34m.\u001b[0m\u001b[0mastype\u001b[0m\u001b[0;34m(\u001b[0m\u001b[0mfloat\u001b[0m\u001b[0;34m)\u001b[0m\u001b[0;34m\u001b[0m\u001b[0;34m\u001b[0m\u001b[0m\n",
      "\u001b[0;31mNameError\u001b[0m: name 'np' is not defined"
     ]
    }
   ],
   "source": [
    "datos = []\n",
    "\n",
    "with open(\"Datos_Simulacion.txt\") as fname:\n",
    "\tfor lineas in fname:\n",
    "\t\tdatos.append(lineas.split())\n",
    "\n",
    "Datos=np.array(datos[1:])\n",
    "\n",
    "x1=Datos[:,0].astype(float)\n",
    "y1=Datos[:,1].astype(float)\n",
    "x2=Datos[:,2].astype(float)\n",
    "y2=Datos[:,3].astype(float)\n",
    "v1x=Datos[:,4].astype(float)\n",
    "v1y=Datos[:,5].astype(float)\n",
    "v2x=Datos[:,6].astype(float)\n",
    "v2y=Datos[:,7].astype(float)\n",
    "v3x=Datos[:,8].astype(float)\n",
    "v3y=Datos[:,9].astype(float)\n",
    "v4x=Datos[:,10].astype(float)\n",
    "v4y=Datos[:,11].astype(float)\n",
    "v5x=Datos[:,12].astype(float)\n",
    "v5y=Datos[:,13].astype(float)\n",
    "v6x=Datos[:,14].astype(float)\n",
    "v6y=Datos[:,15].astype(float)\n",
    "p2x=Datos[:,16].astype(float)\n",
    "p2y=Datos[:,17].astype(float)\n",
    "\n",
    "B=12 #largo rectangulo\n",
    "n=1000 #numero de pasos de tiempo\n",
    "\n",
    "#----- inicializacion de graficos\n",
    "figure(figsize=(7,7))        # hacer figura cuadrada\n",
    "lim = (2*B) + 0.3*(2*B)  # longitud cuerda mas un poquito\n",
    "xlim(-lim, lim)              # limites en x \n",
    "ylim(-lim, lim)              # limites en y\n",
    "\n",
    "plot(0,0,'ro',ms=5, label=\"Pivotes \")          # punto origen (pivote 1)\n",
    "plot(80,80,\"bo\",ms=5, label=\"Centros de masa\")\n",
    "title(\"RK4 Péndulo Rígido Doble\")\n",
    "\n",
    "for i in range(n):\n",
    "\n",
    "    #------ implementacion del grafico animado: \n",
    "    cuerda1, = plot([v2x[i], v1x[i]],[v2y[i], v1y[i]],'k-')  # graficar cuerda\n",
    "    cuerda2, = plot([v1x[i],p2x[i]],[v1y[i],p2y[i]],\"k-\")\n",
    "    cuerda3, = plot([p2x[i],v3x[i]],[p2y[i],v3y[i]],\"k-\")\n",
    "    cuerda4, = plot([v3x[i],v2x[i]],[v3y[i],v2y[i]],\"k-\")\n",
    "    cuerda5, = plot([p2x[i],v4x[i]],[p2y[i],v4y[i]],\"k-\")\n",
    "    cuerda6, = plot([v4x[i],v5x[i]],[v4y[i],v5y[i]],\"k-\")\n",
    "    cuerda7, = plot([v5x[i],v6x[i]],[v5y[i],v6y[i]],\"k-\")\n",
    "    cuerda8, = plot([v6x[i],p2x[i]],[v6y[i],p2y[i]],\"k-\")\n",
    "    pivote2, = plot(p2x[i],p2y[i],\"ro\",ms=4)\n",
    "    masa1,   = plot(x1[i], y1[i],'bo',ms=5)       # graficar masa unida a cuerda\n",
    "    masa2,   = plot(x2[i],y2[i],\"bo\",ms=5)\n",
    "    \n",
    "    \n",
    "    pause(1e-3)              # pausa (segundos) despues de graficar\n",
    "    cuerda1.remove()          # remover punto de coord cuerda\n",
    "    cuerda2.remove()\n",
    "    cuerda3.remove()\n",
    "    cuerda4.remove()\n",
    "    cuerda5.remove()\n",
    "    cuerda6.remove()\n",
    "    cuerda7.remove()\n",
    "    cuerda8.remove()\n",
    "    pivote2.remove()\n",
    "    masa1.remove()            # remover punto de coord de masa\n",
    "    masa2.remove()\n",
    "    legend()\n",
    "\n",
    "show()"
   ]
  },
  {
   "cell_type": "code",
   "execution_count": null,
   "metadata": {},
   "outputs": [],
   "source": []
  }
 ],
 "metadata": {
  "kernelspec": {
   "display_name": "Python 3",
   "language": "python",
   "name": "python3"
  },
  "language_info": {
   "codemirror_mode": {
    "name": "ipython",
    "version": 3
   },
   "file_extension": ".py",
   "mimetype": "text/x-python",
   "name": "python",
   "nbconvert_exporter": "python",
   "pygments_lexer": "ipython3",
   "version": "3.8.10"
  }
 },
 "nbformat": 4,
 "nbformat_minor": 4
}
